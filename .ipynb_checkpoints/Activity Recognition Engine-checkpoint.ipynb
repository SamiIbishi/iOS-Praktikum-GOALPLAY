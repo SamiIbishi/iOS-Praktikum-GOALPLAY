{
 "cells": [
  {
   "cell_type": "markdown",
   "metadata": {},
   "source": [
    "<h2> (1) Import all relevant libraries, layer and classes <h2>\n"
   ]
  },
  {
   "cell_type": "code",
   "execution_count": 1,
   "metadata": {},
   "outputs": [
    {
     "name": "stderr",
     "output_type": "stream",
     "text": [
      "Using TensorFlow backend.\n",
      "WARNING: Logging before flag parsing goes to stderr.\n",
      "W0708 11:39:39.388666 140340220909376 __init__.py:118] TensorFlow version 1.14.0 detected. Last version known to be fully compatible is 1.12.0 .\n"
     ]
    }
   ],
   "source": [
    "# General\n",
    "import os\n",
    "import time\n",
    "\n",
    "# Python libraries\n",
    "import numpy as np\n",
    "import pydot as pyd\n",
    "import matplotlib.pyplot as plt\n",
    "from IPython.display import SVG\n",
    "\n",
    "# Tensorflow\n",
    "import tensorflow as tf\n",
    "\n",
    "# Keras\n",
    "from keras import optimizers\n",
    "from keras import metrics, losses, regularizers\n",
    "from keras import initializers\n",
    "from keras.models import load_model, Sequential\n",
    "from keras.layers import LSTM, Dense, Dropout, Flatten, TimeDistributed\n",
    "from keras.callbacks import TensorBoard, ModelCheckpoint, ReduceLROnPlateau, CSVLogger, EarlyStopping\n",
    "from keras.utils import plot_model\n",
    "from keras.utils.vis_utils import model_to_dot\n",
    "\n",
    "# Scikit-learn\n",
    "import sklearn.preprocessing as skprep\n",
    "from sklearn import metrics\n",
    "from sklearn.model_selection import train_test_split\n",
    "\n",
    "# CoreML \n",
    "import coremltools\n",
    "\n",
    "# Keypoint loader\n",
    "#from ipynb.fs.full.Keypoint_loader import *\n",
    "from auxilary_functions import *\n",
    "#from PlotTrainingsHistory import *"
   ]
  },
  {
   "cell_type": "markdown",
   "metadata": {},
   "source": [
    "<h2> (2) Load and prepare goalkeeper pose data <h2>"
   ]
  },
  {
   "cell_type": "code",
   "execution_count": 2,
   "metadata": {},
   "outputs": [],
   "source": [
    "DATASET_PATH = \"/Data/TrainingsVideo/Exercises/\"\n",
    "\n",
    "X_train_path = DATASET_PATH + \"X_train.txt\"\n",
    "X_test_path = DATASET_PATH + \"X_test.txt\"\n",
    "\n",
    "y_train_path = DATASET_PATH + \"Y_train.txt\"\n",
    "y_test_path = DATASET_PATH + \"Y_test.txt\"\n",
    "\n",
    "# load input/output trainings data\n",
    "# X_train = [samples, timesteps, features]\n",
    "# y_train = [samples, labels]\n",
    "#X_train = load_data(X_train_path)\n",
    "X_train, y_train = load_data()\n",
    "\n",
    "\n",
    "# load input/output test data\n",
    "#X_test = load_X(X_test_path)\n",
    "#y_test = load_y(y_test_path)"
   ]
  },
  {
   "cell_type": "markdown",
   "metadata": {},
   "source": [
    "<h2> (3) Define constants and additional parameters <h2>"
   ]
  },
  {
   "cell_type": "code",
   "execution_count": 3,
   "metadata": {},
   "outputs": [
    {
     "name": "stdout",
     "output_type": "stream",
     "text": [
      "Bsic information regardin the data:\n",
      "---------------------------------------\n",
      "Trainings data...\n",
      "... input shape=(146, 84, 24)\n",
      "... input mean=262.1317881604697\n",
      "... input std=156.11027205208515\n",
      "... target shape=(146, 2)\n",
      "---------------------------------------\n"
     ]
    }
   ],
   "source": [
    "# Input features\n",
    "INPUT = [\n",
    "    \"HEAD_X\",\n",
    "    \"HEAD_Y_\",\n",
    "    \"BODY_X\",\n",
    "    \"BODY_Y\",\n",
    "    \"LEFT_ARM_X\",\n",
    "    \"LEFT_ARM_Y\",\n",
    "    \"RIGHT_ARM_X\",\n",
    "    \"RIGHT_ARM_Y\",\n",
    "    \"LEFT_LEG_X\",\n",
    "    \"LEFT_LEG_Y\",\n",
    "    \"RIGHT_LEG_X\",\n",
    "    \"RIGHT_LEG_Y\",\n",
    "]\n",
    "\n",
    "# Output classes\n",
    "LABELS = [    \n",
    "    #\"SHORT_LEFT_DIVE\",\n",
    "    \"LEFT_DIVE\",\n",
    "    #\"LONG_LEFT_DIVE\",\n",
    "    #\"SHORT_RIGHT_DIVE\",\n",
    "    \"RIGHT_DIVE\",\n",
    "    #\"LONG_RIGHT_DIVE\",\n",
    "    #\"LOW_CATCH\",\n",
    "    #\"MIDDLE_CATCH\",\n",
    "    #\"HIGH_CATCH\",\n",
    "]\n",
    "\n",
    "# Input Data\n",
    "n_timesteps = 84 #len(X_train[1])  # n-timesteps per series per series\n",
    "n_features = 24 #len(X_train[0][0])  # n input parameters per timestep\n",
    "\n",
    "# LSTM Neural Network's internal structure\n",
    "input_shape = (n_timesteps, n_features)\n",
    "n_mem_units = 42 # Hidden layer num of features\n",
    "n_classes = len(LABELS) # n classes (should go up, or should go down)\n",
    "\n",
    "# Training - Hyperparameter  \n",
    "learning_rate = 0.002 \n",
    "optimizer = optimizers.RMSprop(lr=learning_rate, decay=0.2) \n",
    "n_epochs = 20  \n",
    "batch_size = 16\n",
    "\n",
    "# Some debugging info\n",
    "print(\"Bsic information regardin the data:\")\n",
    "print(\"---------------------------------------\")\n",
    "print(\"Trainings data...\")\n",
    "print(\"... input shape=\" + str(X_train.shape))\n",
    "print(\"... input mean=\" + str(np.mean(X_train)))\n",
    "print(\"... input std=\" + str(np.std(X_train)))\n",
    "print(\"... target shape=\" + str(y_train.shape))\n",
    "print(\"---------------------------------------\")\n",
    "#print(\"Test data...\")\n",
    "#print(\"... input shape=\" + str(X_test.shape))\n",
    "#print(\"... input mean=\" + str(np.mean(X_test)))\n",
    "#print(\"... input std=\" + str(np.std(X_test)))\n",
    "#print(\"... target shape=\" + str(y_train.shape))\n",
    "#print(\"---------------------------------------\")"
   ]
  },
  {
   "cell_type": "markdown",
   "metadata": {},
   "source": [
    "<h2> (4) Define and build sequence model <h2>"
   ]
  },
  {
   "cell_type": "code",
   "execution_count": 4,
   "metadata": {
    "scrolled": false
   },
   "outputs": [
    {
     "name": "stderr",
     "output_type": "stream",
     "text": [
      "W0708 11:39:40.285526 140340220909376 deprecation_wrapper.py:119] From /home/sami/anaconda3/envs/tf/lib/python3.6/site-packages/keras/backend/tensorflow_backend.py:74: The name tf.get_default_graph is deprecated. Please use tf.compat.v1.get_default_graph instead.\n",
      "\n",
      "W0708 11:39:40.288532 140340220909376 deprecation_wrapper.py:119] From /home/sami/anaconda3/envs/tf/lib/python3.6/site-packages/keras/backend/tensorflow_backend.py:517: The name tf.placeholder is deprecated. Please use tf.compat.v1.placeholder instead.\n",
      "\n",
      "W0708 11:39:40.293821 140340220909376 deprecation_wrapper.py:119] From /home/sami/anaconda3/envs/tf/lib/python3.6/site-packages/keras/backend/tensorflow_backend.py:4138: The name tf.random_uniform is deprecated. Please use tf.random.uniform instead.\n",
      "\n",
      "W0708 11:39:40.907444 140340220909376 deprecation_wrapper.py:119] From /home/sami/anaconda3/envs/tf/lib/python3.6/site-packages/keras/backend/tensorflow_backend.py:4185: The name tf.truncated_normal is deprecated. Please use tf.random.truncated_normal instead.\n",
      "\n",
      "W0708 11:39:40.936989 140340220909376 deprecation_wrapper.py:119] From /home/sami/anaconda3/envs/tf/lib/python3.6/site-packages/keras/optimizers.py:790: The name tf.train.Optimizer is deprecated. Please use tf.compat.v1.train.Optimizer instead.\n",
      "\n",
      "W0708 11:39:40.946477 140340220909376 deprecation_wrapper.py:119] From /home/sami/anaconda3/envs/tf/lib/python3.6/site-packages/keras/backend/tensorflow_backend.py:3376: The name tf.log is deprecated. Please use tf.math.log instead.\n",
      "\n",
      "W0708 11:39:40.952366 140340220909376 deprecation.py:323] From /home/sami/anaconda3/envs/tf/lib/python3.6/site-packages/tensorflow/python/ops/nn_impl.py:180: add_dispatch_support.<locals>.wrapper (from tensorflow.python.ops.array_ops) is deprecated and will be removed in a future version.\n",
      "Instructions for updating:\n",
      "Use tf.where in 2.0, which has the same broadcast rule as np.where\n"
     ]
    },
    {
     "name": "stdout",
     "output_type": "stream",
     "text": [
      "_________________________________________________________________\n",
      "Layer (type)                 Output Shape              Param #   \n",
      "=================================================================\n",
      "LSTM_Layer1 (LSTM)           (None, 84, 42)            11256     \n",
      "_________________________________________________________________\n",
      "LSTM_Layer2 (LSTM)           (None, 84, 42)            14280     \n",
      "_________________________________________________________________\n",
      "LSTM_Layer3 (LSTM)           (None, 42)                14280     \n",
      "_________________________________________________________________\n",
      "Feature_Layer (Dense)        (None, 42)                1806      \n",
      "_________________________________________________________________\n",
      "Output_Layer (Dense)         (None, 2)                 86        \n",
      "=================================================================\n",
      "Total params: 41,708\n",
      "Trainable params: 41,708\n",
      "Non-trainable params: 0\n",
      "_________________________________________________________________\n"
     ]
    }
   ],
   "source": [
    "# Start sequentially defining model \n",
    "model = Sequential(name = 'Activity Engine')\n",
    "\n",
    "## Temporal feature extraction - multiple LSTM layer\n",
    "model.add(LSTM(n_mem_units,\n",
    "               name = 'LSTM_Layer1',\n",
    "               return_sequences=True, \n",
    "               input_shape=input_shape))\n",
    "model.add(LSTM(n_mem_units,\n",
    "               name = 'LSTM_Layer2',\n",
    "               return_sequences=True))\n",
    "model.add(LSTM(n_mem_units,\n",
    "               name = 'LSTM_Layer3',\n",
    "               return_sequences=False))\n",
    "\n",
    "## Classification - fully-connected network\n",
    "model.add(Dense(42, \n",
    "                activation='relu',\n",
    "                name = 'Feature_Layer',\n",
    "                kernel_initializer=initializers.glorot_normal(seed=42),\n",
    "                bias_initializer='zeros'))\n",
    "\n",
    "## Output layer\n",
    "model.add(Dense(2, activation='softmax', name = 'Output_Layer'))\n",
    "\n",
    "# Print model details/summary\n",
    "model.summary()\n",
    "\n",
    "# Build model \n",
    "model.compile(loss=losses.binary_crossentropy, \n",
    "              optimizer=optimizer,\n",
    "              metrics=['mse', 'accuracy'])  # for binary classfication\n",
    "\n",
    "#model.compile(loss='categorical_crossentropy', \n",
    "#              optimizer=optimizer,\n",
    "#              metrics=['mae', 'accuracy'])  # if more than two targets\n",
    "\n",
    "# Model abstract information\n",
    "model.author = 'Goalplay'\n",
    "model.short_description = 'Activity Recognition with goalplayer training'\n",
    "\n",
    "# Visualize model\n",
    "plot_model(model, to_file='./training_history/model_visualize/model_' + time_stamp() + '.png', show_shapes=True, show_layer_names=True)"
   ]
  },
  {
   "cell_type": "markdown",
   "metadata": {},
   "source": [
    "<h2> (5) Record and store process of models/training <h2>"
   ]
  },
  {
   "cell_type": "code",
   "execution_count": 5,
   "metadata": {},
   "outputs": [],
   "source": [
    "# Tensorboard\n",
    "logdir = './training_history/logs/' + time_stamp()\n",
    "\n",
    "## Check whether the target directoy exist and \n",
    "if not os.path.exists(logdir):\n",
    "    os.makedirs(logdir)\n",
    "    \n",
    "## Create callback for tensorboard/trainings-history with the path to the logs directory\n",
    "tensorboard = tf.keras.callbacks.TensorBoard(log_dir=logdir)\n",
    "\n",
    "# Model saving\n",
    "## Create directory which will contain trained models \n",
    "model_directory = \"./training_history/saved_models/\" + time_stamp()\n",
    "\n",
    "## Check whether the target directoy exist and \n",
    "if not os.path.exists(model_directory):\n",
    "    os.makedirs(model_directory)\n",
    "\n",
    "## Create callback which stores model-weights checkpoints\n",
    "checkpointer = ModelCheckpoint(filepath=model_directory + '/weights.{epoch:03d}-{val_loss:.2f}.hdf5', save_best_only=True)\n",
    "#reduce_lr = ReduceLROnPlateau(monitor='val_loss', factor=0.2, patience=10, min_lr=0.001)\n",
    "earlyStopping = EarlyStopping(monitor='val_loss', min_delta=0.01, patience=10, baseline=0.8, restore_best_weights=True)\n",
    "csv_logger = CSVLogger(model_directory + '/training.log')\n",
    "\n",
    "# Generate callback list \n",
    "callbacks = [tensorboard, checkpointer, csv_logger, earlyStopping]"
   ]
  },
  {
   "cell_type": "markdown",
   "metadata": {},
   "source": [
    "<h2> (6) Train model <h2>"
   ]
  },
  {
   "cell_type": "code",
   "execution_count": 6,
   "metadata": {
    "scrolled": false
   },
   "outputs": [
    {
     "name": "stdout",
     "output_type": "stream",
     "text": [
      "Train on 102 samples, validate on 44 samples\n",
      "Epoch 1/20\n",
      "102/102 [==============================] - 7s 64ms/step - loss: 0.5010 - mean_squared_error: 0.1650 - acc: 0.7745 - val_loss: 1.0042 - val_mean_squared_error: 0.3595 - val_acc: 0.4318\n",
      "Epoch 2/20\n",
      "102/102 [==============================] - 3s 26ms/step - loss: 0.3403 - mean_squared_error: 0.1058 - acc: 0.8627 - val_loss: 0.7011 - val_mean_squared_error: 0.2353 - val_acc: 0.7500\n",
      "Epoch 3/20\n",
      "102/102 [==============================] - 2s 24ms/step - loss: 0.2660 - mean_squared_error: 0.0810 - acc: 0.9020 - val_loss: 0.6346 - val_mean_squared_error: 0.2053 - val_acc: 0.8409\n",
      "Epoch 4/20\n",
      "102/102 [==============================] - 2s 24ms/step - loss: 0.1960 - mean_squared_error: 0.0586 - acc: 0.9412 - val_loss: 0.6348 - val_mean_squared_error: 0.1954 - val_acc: 0.8409\n",
      "Epoch 5/20\n",
      "102/102 [==============================] - 3s 25ms/step - loss: 0.1778 - mean_squared_error: 0.0535 - acc: 0.9314 - val_loss: 0.5886 - val_mean_squared_error: 0.1765 - val_acc: 0.8409\n",
      "Epoch 6/20\n",
      "102/102 [==============================] - 3s 26ms/step - loss: 0.1488 - mean_squared_error: 0.0423 - acc: 0.9706 - val_loss: 0.8752 - val_mean_squared_error: 0.2315 - val_acc: 0.8182\n",
      "Epoch 7/20\n",
      "102/102 [==============================] - 3s 26ms/step - loss: 0.1546 - mean_squared_error: 0.0445 - acc: 0.9706 - val_loss: 0.4716 - val_mean_squared_error: 0.1293 - val_acc: 0.9091\n",
      "Epoch 8/20\n",
      "102/102 [==============================] - 3s 27ms/step - loss: 0.1197 - mean_squared_error: 0.0297 - acc: 0.9902 - val_loss: 0.4978 - val_mean_squared_error: 0.1363 - val_acc: 0.9091\n",
      "Epoch 9/20\n",
      "102/102 [==============================] - 2s 24ms/step - loss: 0.1088 - mean_squared_error: 0.0257 - acc: 1.0000 - val_loss: 0.4834 - val_mean_squared_error: 0.1298 - val_acc: 0.9091\n",
      "Epoch 10/20\n",
      "102/102 [==============================] - 3s 25ms/step - loss: 0.1027 - mean_squared_error: 0.0240 - acc: 0.9902 - val_loss: 0.4563 - val_mean_squared_error: 0.1181 - val_acc: 0.9091\n",
      "Epoch 11/20\n",
      "102/102 [==============================] - 3s 27ms/step - loss: 0.0936 - mean_squared_error: 0.0209 - acc: 1.0000 - val_loss: 0.5546 - val_mean_squared_error: 0.1433 - val_acc: 0.8636\n",
      "Epoch 12/20\n",
      "102/102 [==============================] - 3s 26ms/step - loss: 0.0858 - mean_squared_error: 0.0187 - acc: 1.0000 - val_loss: 0.5335 - val_mean_squared_error: 0.1346 - val_acc: 0.8636\n",
      "Epoch 13/20\n",
      "102/102 [==============================] - 3s 26ms/step - loss: 0.0831 - mean_squared_error: 0.0183 - acc: 0.9902 - val_loss: 0.4468 - val_mean_squared_error: 0.1100 - val_acc: 0.9091\n",
      "Epoch 14/20\n",
      "102/102 [==============================] - 3s 25ms/step - loss: 0.0724 - mean_squared_error: 0.0142 - acc: 1.0000 - val_loss: 0.4457 - val_mean_squared_error: 0.1069 - val_acc: 0.9091\n",
      "Epoch 15/20\n",
      "102/102 [==============================] - 2s 24ms/step - loss: 0.0680 - mean_squared_error: 0.0131 - acc: 1.0000 - val_loss: 0.3458 - val_mean_squared_error: 0.0738 - val_acc: 0.9318\n",
      "Epoch 16/20\n",
      "102/102 [==============================] - 2s 24ms/step - loss: 0.0649 - mean_squared_error: 0.0113 - acc: 1.0000 - val_loss: 0.4166 - val_mean_squared_error: 0.0958 - val_acc: 0.9091\n",
      "Epoch 17/20\n",
      "102/102 [==============================] - 2s 24ms/step - loss: 0.0597 - mean_squared_error: 0.0105 - acc: 1.0000 - val_loss: 0.4813 - val_mean_squared_error: 0.1100 - val_acc: 0.9091\n",
      "Epoch 18/20\n",
      "102/102 [==============================] - 3s 25ms/step - loss: 0.0547 - mean_squared_error: 0.0093 - acc: 1.0000 - val_loss: 0.4109 - val_mean_squared_error: 0.0927 - val_acc: 0.9091\n",
      "Epoch 19/20\n",
      "102/102 [==============================] - 2s 24ms/step - loss: 0.0504 - mean_squared_error: 0.0077 - acc: 1.0000 - val_loss: 0.4342 - val_mean_squared_error: 0.0963 - val_acc: 0.9091\n",
      "Epoch 20/20\n",
      "102/102 [==============================] - 3s 27ms/step - loss: 0.0479 - mean_squared_error: 0.0075 - acc: 1.0000 - val_loss: 0.3319 - val_mean_squared_error: 0.0668 - val_acc: 0.9091\n"
     ]
    }
   ],
   "source": [
    "# Train model on trainings data \n",
    "history = model.fit(X_train, \n",
    "                    y_train, \n",
    "                    verbose=1, \n",
    "                    shuffle=True, \n",
    "                    epochs=n_epochs, \n",
    "                    validation_split=0.3, \n",
    "                    batch_size=batch_size, \n",
    "                    callbacks=callbacks)"
   ]
  },
  {
   "cell_type": "markdown",
   "metadata": {},
   "source": [
    "<h2> (7) Predict and evaluate <h2>"
   ]
  },
  {
   "cell_type": "code",
   "execution_count": 7,
   "metadata": {},
   "outputs": [
    {
     "data": {
      "image/png": "[encoded data removed]",
      "text/plain": [
       "<Figure size 432x288 with 1 Axes>"
      ]
     },
     "metadata": {
      "needs_background": "light"
     },
     "output_type": "display_data"
    },
    {
     "data": {
      "image/png": "[encoded data removed]",
      "text/plain": [
       "<Figure size 432x288 with 1 Axes>"
      ]
     },
     "metadata": {
      "needs_background": "light"
     },
     "output_type": "display_data"
    }
   ],
   "source": [
    "# Plot training & validation accuracy values\n",
    "plt.plot(history.history['acc'])\n",
    "plt.plot(history.history['val_acc'])\n",
    "plt.title('Model accuracy')\n",
    "plt.ylabel('Accuracy')\n",
    "plt.xlabel('Epoch')\n",
    "plt.legend(['Train', 'Test'], loc='lower right')\n",
    "plt.show()\n",
    "\n",
    "# Plot training & validation loss values\n",
    "plt.plot(history.history['loss'])\n",
    "plt.plot(history.history['val_loss'])\n",
    "plt.title('Model loss')\n",
    "plt.ylabel('Loss')\n",
    "plt.xlabel('Epoch')\n",
    "plt.legend(['Train', 'Test'], loc='upper right')\n",
    "plt.show()"
   ]
  },
  {
   "cell_type": "markdown",
   "metadata": {},
   "source": [
    "<h2> (8) Save model <h2>"
   ]
  },
  {
   "cell_type": "code",
   "execution_count": 8,
   "metadata": {},
   "outputs": [
    {
     "name": "stdout",
     "output_type": "stream",
     "text": [
      "0 : LSTM_Layer1_input, <keras.engine.input_layer.InputLayer object at 0x7fa32847a898>\n",
      "1 : LSTM_Layer1, <keras.layers.recurrent.LSTM object at 0x7fa32847a7f0>\n",
      "2 : LSTM_Layer2, <keras.layers.recurrent.LSTM object at 0x7fa3281b7390>\n",
      "3 : LSTM_Layer3, <keras.layers.recurrent.LSTM object at 0x7fa3281b7f60>\n",
      "4 : Feature_Layer, <keras.layers.core.Dense object at 0x7fa328361240>\n",
      "5 : Feature_Layer__activation__, <keras.layers.core.Activation object at 0x7fa3784cc860>\n",
      "6 : Output_Layer, <keras.layers.core.Dense object at 0x7fa2e0088240>\n",
      "7 : Output_Layer__activation__, <keras.layers.core.Activation object at 0x7fa2a863e3c8>\n"
     ]
    }
   ],
   "source": [
    "# Save trained model\n",
    "model.save(model_directory + \"/model_\" + time_stamp() + \".h5\")\n",
    "\n",
    "# Convert trained model into CoreML\n",
    "coreml_model = coremltools.converters.keras.convert(model_directory + \"/model_\" + time_stamp() + \".h5\", \n",
    "                                                    class_labels=LABELS, \n",
    "                                                    input_names=['pose'])\n",
    "\n",
    "# Store CoreML model \n",
    "coreml_model.save(model_directory + \"/mlmodel_\" + time_stamp() + \".mlmodel\")"
   ]
  },
  {
   "cell_type": "code",
   "execution_count": null,
   "metadata": {},
   "outputs": [],
   "source": []
  }
 ],
 "metadata": {
  "kernelspec": {
   "display_name": "Python 3",
   "language": "python",
   "name": "python3"
  },
  "language_info": {
   "codemirror_mode": {
    "name": "ipython",
    "version": 3
   },
   "file_extension": ".py",
   "mimetype": "text/x-python",
   "name": "python",
   "nbconvert_exporter": "python",
   "pygments_lexer": "ipython3",
   "version": "3.6.8"
  }
 },
 "nbformat": 4,
 "nbformat_minor": 2
}
